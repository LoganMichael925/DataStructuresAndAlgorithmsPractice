{
 "cells": [
  {
   "cell_type": "markdown",
   "id": "bb4a2ab1",
   "metadata": {},
   "source": [
    "Python has 3 main sequence classes: \n",
    "list: [1,2,3]\n",
    "tuple: (1,2,3)\n",
    "string: '123'\n",
    "All support indexing (t[0] = 1)"
   ]
  },
  {
   "cell_type": "code",
   "execution_count": null,
   "id": "aab487b4",
   "metadata": {},
   "outputs": [],
   "source": []
  }
 ],
 "metadata": {
  "kernelspec": {
   "display_name": "Python 3 (ipykernel)",
   "language": "python",
   "name": "python3"
  },
  "language_info": {
   "codemirror_mode": {
    "name": "ipython",
    "version": 3
   },
   "file_extension": ".py",
   "mimetype": "text/x-python",
   "name": "python",
   "nbconvert_exporter": "python",
   "pygments_lexer": "ipython3",
   "version": "3.9.12"
  }
 },
 "nbformat": 4,
 "nbformat_minor": 5
}
